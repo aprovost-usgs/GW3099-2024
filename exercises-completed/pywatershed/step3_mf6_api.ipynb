{
 "cells": [
  {
   "cell_type": "markdown",
   "id": "74dbbe8e-fb8a-4d69-86f3-0c41a3a10756",
   "metadata": {},
   "source": [
    "# U.S. Geological Survey Class GW3099\n",
    "Advanced Modeling of Groundwater Flow (GW3099)\\\n",
    "Boise, Idaho\\\n",
    "September 16 - 20, 2024\n",
    "\n",
    "![title](../../images/ClassLocation.jpg)\n",
    "\n",
    "# Pywatershed and MF6 coupling\n",
    "\n",
    "## Introduction\n",
    "\n",
    "### The challenge of siloed modeling domains\n",
    "A recurring challenge of water sciences is working across disciplines. Increasingly, this is where important scientific questions and advances are located. From a software perspective, work across disciplines can result in new \"code silos\" being created when the software forged by interdisciplinary efforts becomes disconnected from its roots over time. \n",
    "\n",
    "One example of this is the case of GSFLOW, the USGS coupled groundwater-surfacewater flow model (Markstrom et al., 2008). GSFLOW represents a significant advancement in modeling many aspects of combined groundwater and surface water flow. However, over time, the GSFLOW code has diverged from the current and improved versions of the the USGS's hydrologic (Precipitation Runoff Modeling System, PRMS; Regan et al., 2022) and groundwater (MODFLOW, Langevin et al., 2017) models which it initially bridged. \n",
    "\n",
    "The challenge of working across-disciplines in a sustainable way is one issue addressed by the development of the Basic Model Interface (BMI, Hutton et al., 2020). Hughes et al. (2021) implemented BMI for MODFLOW 6 (MF6) and extended it to handle numerical-level model couplings. Hughes et al. (2021) specifically demonstrated the ease of coupling the PRMS model to MF6's BMI interface. \n",
    "\n",
    "This notebook reproduces the results of Hughes et al. (2021) but substitutes `pywatershed` for [PRMS-BMI](https://github.com/nhm-usgs/bmi-prms-demo) in the Sagehen Creek Watershed Simulation. The pywatershed package contains the same core functionality as the PRMS model in an interactive language with a more modularized design. The goal of this notebook is to give a concrete example of how pywatershed can couple to MF6 or to other models via BMI.\n",
    "\n",
    "We implement the model coupling design of Hughes et al. (2021) as illustrated in Figure 1. Before discussing in more details, we note that this coupling is similar to GSFLOW, with the following differences:\n",
    "* Surface water is modeled on HRUs instead of a grid\n",
    "* Surface runoff and interflow are not routed from upslope to downslope HRUs using \"cascading flow\"\n",
    "* The surface water soilzone process is only solved once per timestep instead of being recalculated with MF6 outer solver iterations\n",
    "\n",
    "Figure 1 shows how pywatershed and MF6 are one-way coupled. Pywatershed runs the hydrologic simulation on an unstructured grid of hydrologic response units (HRUs). Starting from atmospheric focing inputs, and proceeding through canopy, snow, runoff, and soil, pywatershed uses process representations found in PRMS (National Hydrologic Model configuration). At the end of each timestep, fluxes and states are sent from pywatershed to MF6. As shown by arrows in the figure, separate sptial mappings exist from the HRUs to the MODFLOW grid and streamflow network. The gridded MF6 Unsaturated Zone Flow (UZF) package is conceptualized below the soil zone of the hydrologic model. Unstatisfied potentital evapotransipiration in the hydrologic model, remapped from HRUs to gridcells, can be met by water in the UZF. Similarly, hydrologic recharges of groundwater are summed and remapped as infiltration to UZF. The hydrologic surface runoff and interflow fluxes are mapped from the HRUS into the MF6 streamflow routing (SFR) network.\n",
    "\n",
    "Also shown in the figure, the model design does allow MF6 Unstaurated Zone Flow (UZF) package to determine saturation and reject some or all of its infiltration term from the hydrologic soilzone. Instead of sending these back to Soilzone in a 2- way coupling, the rejected water is sent as runoff to streamflow routing (SFR) using the \"mover\" (MVR) package. Groundwater exfiltration is likewise mapped as runoff to SFR via MVR. \n",
    "\n",
    "| ![sagehen_schematic](sagehen_pws_mf6_coupling_schematic.png) |\n",
    "|:--:|\n",
    "| <i>Figure 1 Overview of spatial discretizations, the pywatershed-MF6 coupling, and physical process representations used for modeling the Sagehen Creek Watershed. The execution loop first executes pywatershed (1), then its fluxes are disaggregated with the two mappings and sent to MF6 (2) for execution via its BMI API. </i>|\n",
    "\n",
    "### Requirements\n",
    "\n",
    "The provided MODFLOW 6 dylib/dll (`sagehen_pws_mf6api/bin/libmf6.dylib`) may not work for you (it is for a Mac M1 chip). You can obtain a MODFLOW 6 dylib/dll for other platforms from https://github.com/MODFLOW-USGS/modflow6/releases. You should place it in `sagehen_pws_mf6api/bin/`.\n",
    "\n",
    "If these preprovided DLLs do not work for you, then worst case scenario (not too time consuming) is that you have to install and build MF6 as described starting here (after installing its environment): https://github.com/MODFLOW-USGS/modflow6-nightly-build/releases/tag/20230430\n",
    "\n",
    "Once you have the dylib/dll, you can **test it**?\n",
    "\n",
    "The remaining dependencies for this notebook should be completely specified in by the pws-csdms.yaml or any of its frozen versions found in `env/` in the repository root directroy. Installing these is described in the `README.md`"
   ]
  },
  {
   "cell_type": "code",
   "execution_count": null,
   "id": "65ab6d29-d622-4214-86ec-278565a494dc",
   "metadata": {},
   "outputs": [],
   "source": [
    "import os\n",
    "import pathlib as pl\n",
    "import platform\n",
    "import shutil\n",
    "\n",
    "import flopy\n",
    "import hvplot.xarray  # noqa\n",
    "import jupyter_black\n",
    "import numpy as np\n",
    "import pywatershed as pws\n",
    "import xarray as xr\n",
    "from helpers import get_mf6_nightly_build\n",
    "from modflowapi import ModflowApi\n",
    "\n",
    "jupyter_black.load()\n",
    "pws.utils.gis_files.download()\n",
    "pws.utils.addtl_domain_files.download()\n",
    "\n",
    "nb_output_dir = pl.Path(\"./step3_mf6_api\").resolve()\n",
    "if not nb_output_dir.exists():\n",
    "    nb_output_dir.mkdir()\n",
    "\n",
    "pws_root = pws.constants.__pywatershed_root__\n",
    "domain_dir = (pws_root.parent / \"test_data/sagehen_5yr/\").resolve()\n",
    "mf6_domain_dir = (pws_root.parent / \"test_data/sagehen_mf6\").resolve()"
   ]
  },
  {
   "cell_type": "markdown",
   "id": "d77c0a90-9d9b-464c-939c-a987b7a9114b",
   "metadata": {},
   "source": [
    "# Get the MF6 dylibs from yesterdays nightly build"
   ]
  },
  {
   "cell_type": "code",
   "execution_count": null,
   "id": "d5cd67cf-c132-4f38-b608-c5d98ff8cfbc",
   "metadata": {},
   "outputs": [],
   "source": [
    "nightly_build_dir = nb_output_dir / \"mf6_nightly_build\"\n",
    "nightly_build_dir.mkdir(exist_ok=True)\n",
    "flopy.utils.get_modflow(\n",
    "    bindir=str(nightly_build_dir), repo=\"modflow6-nightly-build\", quiet=True\n",
    ")\n",
    "\n",
    "if platform.system == \"Windows\":\n",
    "    mf6_dll = nightly_build_dir / \"libmf6.dll\"\n",
    "else:\n",
    "    mf6_dll = nightly_build_dir / \"libmf6.dylib\"\n",
    "assert mf6_dll.exists()"
   ]
  },
  {
   "cell_type": "markdown",
   "id": "057aabc7-0101-4804-8386-3f6b1efb9039",
   "metadata": {},
   "source": [
    "## Set up the run\n",
    "### MF6 files staging\n",
    "These need copied to the run directory"
   ]
  },
  {
   "cell_type": "code",
   "execution_count": null,
   "id": "db740d2a-8543-4f59-9b12-1d39270fb42f",
   "metadata": {},
   "outputs": [],
   "source": [
    "files_dirs_to_cp = [\n",
    "    \"common\",\n",
    "    \"sagehenmodel\",\n",
    "    \"hru_weights.npz\",\n",
    "    \"sagehen_postprocess_graphs.py\",\n",
    "    \"prms_grid_v3-Copy1.nc\",\n",
    "]\n",
    "rename = {\n",
    "    \"sagehenmodel\": \"run_dir\",\n",
    "    \"sagehen_postprocess_graphs.py\": \"run_dir/sagehen_postprocess_graphs.py\",\n",
    "}\n",
    "for name in files_dirs_to_cp:\n",
    "    src = mf6_domain_dir / name\n",
    "    if name in rename.keys():\n",
    "        dst = nb_output_dir / rename[name]\n",
    "    else:\n",
    "        dst = nb_output_dir / name\n",
    "    if not dst.exists():\n",
    "        if src.is_dir():\n",
    "            shutil.copytree(src, dst)\n",
    "        else:\n",
    "            shutil.copy(src, dst)"
   ]
  },
  {
   "cell_type": "markdown",
   "id": "72122c0c-e68e-4145-8812-fff8f1b63619",
   "metadata": {},
   "source": [
    "### pywatershed files\n",
    "The pyawatershed files dont need copied, they are just used in memory. (THough they could be written out if you like)."
   ]
  },
  {
   "cell_type": "code",
   "execution_count": null,
   "id": "5eacd8f9-7290-48e9-a9ba-9bf582ed8e4e",
   "metadata": {},
   "outputs": [],
   "source": [
    "control_file = domain_dir / \"sagehen_no_gw_cascades.control\"\n",
    "control = pws.Control.load_prms(control_file)\n",
    "\n",
    "parameter_file = domain_dir / control.options[\"parameter_file\"]\n",
    "params = pws.parameters.PrmsParameters.load(parameter_file)\n",
    "params = pws.utils.preprocess_cascades.preprocess_cascade_params(\n",
    "    control, params, verbosity=0\n",
    ")"
   ]
  },
  {
   "cell_type": "markdown",
   "id": "f37aa1a6-e371-48c2-baf2-b43e017e796b",
   "metadata": {},
   "source": [
    "### Plot HRUs and the MF6 grid?"
   ]
  },
  {
   "cell_type": "markdown",
   "id": "aa73ab2a-1164-4b84-8b2c-e8a3c54debc3",
   "metadata": {},
   "source": [
    "# Spatial mappings"
   ]
  },
  {
   "cell_type": "code",
   "execution_count": null,
   "id": "7dcd46a9-11af-414f-abbc-2362f5c696c0",
   "metadata": {},
   "outputs": [],
   "source": [
    "weights = np.load(nb_output_dir / \"hru_weights.npz\")"
   ]
  },
  {
   "cell_type": "markdown",
   "id": "0fb6f88b-c225-44da-9791-4dc3e9a6768c",
   "metadata": {},
   "source": [
    "_HRU to UZF weights_"
   ]
  },
  {
   "cell_type": "code",
   "execution_count": null,
   "id": "6469de7b-58d4-4a7a-8095-d53999b1989b",
   "metadata": {},
   "outputs": [],
   "source": [
    "print(weights[\"uzfw\"].shape)\n",
    "uzfw = weights[\"uzfw\"]\n",
    "nuzf_infilt = uzfw.shape[0]"
   ]
  },
  {
   "cell_type": "markdown",
   "id": "f8887f7c-8782-4e0e-bb24-59f4e58f2f04",
   "metadata": {},
   "source": [
    "_HRU to SFR weights_"
   ]
  },
  {
   "cell_type": "code",
   "execution_count": null,
   "id": "4434d87b-f934-4928-ab77-1a9f4f33ef29",
   "metadata": {},
   "outputs": [],
   "source": [
    "print(weights[\"sfrw\"].shape)\n",
    "sfrw = weights[\"sfrw\"]"
   ]
  },
  {
   "cell_type": "markdown",
   "id": "065f4cef-321b-4ee9-920f-c1575975f3a5",
   "metadata": {},
   "source": [
    "This indicates that here are 128 HRUs, 3386 gridcells, and 201 stream reaches. "
   ]
  },
  {
   "cell_type": "markdown",
   "id": "2936b2ae-d939-4138-a1f8-e3081b9a80d7",
   "metadata": {},
   "source": [
    "Define a function to map HRU values to MODFLOW 6 values, which is just a dot product."
   ]
  },
  {
   "cell_type": "code",
   "execution_count": null,
   "id": "d0e98ae6-c950-4819-ae02-4afc4062c1de",
   "metadata": {},
   "outputs": [],
   "source": [
    "def hru2mf6(weights, values):\n",
    "    return weights.dot(values)"
   ]
  },
  {
   "cell_type": "markdown",
   "id": "121152b8-ef53-4743-8ca2-d57ed9ceb875",
   "metadata": {},
   "source": [
    "#### Unit conversion factors"
   ]
  },
  {
   "cell_type": "code",
   "execution_count": null,
   "id": "b78d9368-e2fa-4278-afa6-8d77746eb7bf",
   "metadata": {},
   "outputs": [],
   "source": [
    "m2ft = 3.28081\n",
    "in2m = 1.0 / (12.0 * m2ft)\n",
    "acre2m2 = 43560.0 / (m2ft * m2ft)"
   ]
  },
  {
   "cell_type": "code",
   "execution_count": null,
   "id": "7f228dc2-aca2-4861-99e5-39c8b97c1aae",
   "metadata": {
    "jupyter": {
     "source_hidden": true
    }
   },
   "outputs": [],
   "source": [
    "hru_area_m2 = params.parameters[\"hru_area\"] * acre2m2"
   ]
  },
  {
   "cell_type": "markdown",
   "id": "d13a52d5-431a-4f3c-9ff7-81079e7f5279",
   "metadata": {},
   "source": [
    "### Run one-way coupled pywatershed and MODFLOW 6 models\n",
    "\n",
    "#### Initialize pywatershed components\n",
    "\n",
    "We establish and load the requisite inputs for pywawtershed. This parameter dictionary loaded from a pickle file below was adapted from a PRMS6 parameter file."
   ]
  },
  {
   "cell_type": "code",
   "execution_count": null,
   "id": "484c1628-6866-412b-83a8-5ec88b1b71b5",
   "metadata": {},
   "outputs": [],
   "source": [
    "run_dir = nb_output_dir / \"run_dir\"\n",
    "assert run_dir.exists()\n",
    "os.chdir(run_dir)\n",
    "print(\"changing to run directory:\\n\", os.getcwd())\n",
    "\n",
    "mf6_output_dir = run_dir / \"output\"\n",
    "\n",
    "# This step is *critical* for MF6 initialization\n",
    "if not mf6_output_dir.exists():\n",
    "    mf6_output_dir.mkdir()"
   ]
  },
  {
   "cell_type": "code",
   "execution_count": null,
   "id": "dde017ba-ceea-4d19-8e04-d3831d775760",
   "metadata": {},
   "outputs": [],
   "source": [
    "# use the 16 year CBH files from supplementary pywatershed files\n",
    "control.options[\"input_dir\"] = (\n",
    "    pws.constants.__pywatershed_root__\n",
    "    / \"data/pywatershed_addtl_domains/sagehen_cbh_16yr\"\n",
    ")\n",
    "control.edit_n_time_steps(5844)  # the 16 years in the forcing files above\n",
    "control.options[\"calc_method\"] = \"numba\"\n",
    "control.options[\"budget_type\"] = None\n",
    "control.options[\"netcdf_output_dir\"] = nb_output_dir / \"pws_model_output\"\n",
    "# TODO: THIS NEXT LINE SHOULD NOT NEED TO HAPPEN\n",
    "# control.options[\"netcdf_output_var_names\"] = control.options[\n",
    "#    \"netcdf_output_var_names\"\n",
    "# ].tolist()\n",
    "output_var_names = [\n",
    "    \"hru_ppt\",\n",
    "    \"potet\",\n",
    "    \"hru_actet\",\n",
    "    \"ssres_in\",\n",
    "    \"pref_flow_infil\",\n",
    "    \"ssr_to_gw\",\n",
    "    \"soil_to_gw\",\n",
    "    \"sroff\",\n",
    "    \"ssres_flow\",\n",
    "    \"pref_flow\",\n",
    "    \"dunnian_flow\",\n",
    "    \"slow_flow\",\n",
    "]\n",
    "control.options[\"netcdf_output_var_names\"] = output_var_names\n",
    "control.options[\"netcdf_output_var_names\"].append(\"hru_horton_cascflow\")"
   ]
  },
  {
   "cell_type": "markdown",
   "id": "70498d06-a3b2-4d3b-a878-739efb80eba5",
   "metadata": {},
   "source": [
    "#### Create arrays to save hydrology results\n",
    "While pywatershed has NetCDF output available, the existing plots are setup to work with numpy arrays collected during the run and saved at the end. We follow this path for ease of reproducing the plots. This how custom output can be quite easily achieved with pywatershed."
   ]
  },
  {
   "cell_type": "code",
   "execution_count": null,
   "id": "1815eb83-a793-43f6-b060-e4c6510ec869",
   "metadata": {},
   "outputs": [],
   "source": [
    "ntimes = int(control.n_times)\n",
    "print(\"Number of days to simulate {}\".format(ntimes))\n",
    "\n",
    "prms_vars = [\n",
    "    \"hru_ppt_out\",\n",
    "    \"actet_out\",\n",
    "    \"potet_out\",\n",
    "    \"soilinfil_out\",\n",
    "    \"runoff_out\",\n",
    "    \"interflow_out\",\n",
    "]\n",
    "prms_var_dict = {}\n",
    "prms_var_dict[\"time_out\"] = np.empty(ntimes, dtype=\"datetime64[s]\")\n",
    "for vv in prms_vars:\n",
    "    prms_var_dict[vv] = np.zeros(\n",
    "        (ntimes, hru_area_m2.shape[0]), dtype=np.float64\n",
    "    )"
   ]
  },
  {
   "cell_type": "code",
   "execution_count": null,
   "id": "475f654a-8ac6-4965-83e2-ad82865248ef",
   "metadata": {},
   "outputs": [],
   "source": [
    "prms_processes = [\n",
    "    pws.PRMSSolarGeometry,\n",
    "    pws.PRMSAtmosphere,\n",
    "    pws.PRMSCanopy,\n",
    "    pws.PRMSSnow,\n",
    "    pws.PRMSRunoffCascadesNoDprst,\n",
    "    pws.PRMSSoilzoneCascadesNoDprst,\n",
    "]\n",
    "\n",
    "prms_model = pws.Model(\n",
    "    prms_processes,\n",
    "    control=control,\n",
    "    parameters=params,\n",
    ")"
   ]
  },
  {
   "cell_type": "code",
   "execution_count": null,
   "id": "e6e4d4a7-2540-401c-965d-5cca1640de35",
   "metadata": {},
   "outputs": [],
   "source": [
    "# how can we tell what variables to couple to MF6?\n",
    "# \"SINF\": \"UZF-1\", # surface infiltration\n",
    "# \"PET\": \"UZF-1\", # potential ET\n",
    "# \"RUNOFF\": \"SFR-1\"  # runoff\n",
    "\n",
    "# In pywatershed only prognostic variables appear in the mass balance terms. There may be\n",
    "# summary variables available but these are not checked in mass balance"
   ]
  },
  {
   "cell_type": "code",
   "execution_count": null,
   "id": "ba51e9e0-8a43-4f76-8923-64557f936396",
   "metadata": {},
   "outputs": [],
   "source": []
  },
  {
   "cell_type": "code",
   "execution_count": null,
   "id": "a5adb134-7f5c-425c-b745-6bba3975056e",
   "metadata": {},
   "outputs": [],
   "source": [
    "pws.meta.get_vars(\n",
    "    [\n",
    "        *pws.PRMSRunoffCascadesNoDprst.get_mass_budget_terms()[\"outputs\"],\n",
    "        *pws.PRMSSoilzoneCascadesNoDprst.get_mass_budget_terms()[\"outputs\"],\n",
    "    ]\n",
    ")"
   ]
  },
  {
   "cell_type": "markdown",
   "id": "0e8d7979-05ff-4cba-ae87-94055ce832fc",
   "metadata": {},
   "source": [
    "```\n",
    "\"RUNOFF\" =  sroff + dunnian_flow + pref_flow + slow_flow\n",
    "# redundancy?? ssres_flow = pref_flow + slow_flow=grav\n",
    "# redundancy?? \n",
    "\"SINF\"[:nuzf_infilt] = (\n",
    "        hru2mf6(uzfw, recharge) * in2m\n",
    "    )  # ssr_to_gw + soil_to_gw\n",
    "\"PET\"[:nuzf_infilt] = hru2mf6(uzfw, unused_pet) * in2m  # potet - actet\n",
    "# need to use perv_actet ?\n",
    "```"
   ]
  },
  {
   "cell_type": "markdown",
   "id": "b15e6204-70bf-432d-809f-b19796814153",
   "metadata": {},
   "source": [
    "#### Initialize MODFLOW 6\n",
    "\n",
    "The dylib/DLL Initialization requires all inputs AND the output directory to exist."
   ]
  },
  {
   "cell_type": "code",
   "execution_count": null,
   "id": "6a87149e-0c94-4bf2-b2aa-cf03348fa8f1",
   "metadata": {},
   "outputs": [],
   "source": [
    "mf6_config_file = \"mfsim.nam\"\n",
    "mf6 = ModflowApi(mf6_dll, working_directory=os.getcwd())\n",
    "mf6.initialize(str(mf6_config_file))"
   ]
  },
  {
   "cell_type": "markdown",
   "id": "aad59364-b785-4b88-bc87-e74585e6ce5d",
   "metadata": {},
   "source": [
    "Get information about the modflow model start and end times"
   ]
  },
  {
   "cell_type": "code",
   "execution_count": null,
   "id": "f403a084-381c-4956-9f2d-ba6c070d1dbd",
   "metadata": {},
   "outputs": [],
   "source": [
    "current_time = mf6.get_current_time()\n",
    "end_time = mf6.get_end_time()\n",
    "print(\n",
    "    f\"MF current_time: {current_time}, prms control.start_time: {control.start_time}\"\n",
    ")\n",
    "print(f\"MF end_time: {end_time}, prms control.n_times: {control.n_times}\")"
   ]
  },
  {
   "cell_type": "markdown",
   "id": "5f78db76-2ccb-45cf-b636-f6fc3c2b33c3",
   "metadata": {},
   "source": [
    "#### Get pointers to MODFLOW 6 variables\n",
    "\n",
    "As shown in figure 1, pywatershed is sending the following fluxes to MF6\n",
    "\n",
    "* SINF is surface infiltration to MF6's UZF package, this is mapped from groundwater recharge in pywatershed\n",
    "* PET is unsatisfied potential evapotransipiration in MF6's UZF, this is also tracked through soilzone in pytwatershed\n",
    "* RUNOFF to MF6's SFR comes from combined surface runoff and interflow from pywatershed.\n",
    "\n",
    "To set these values on MF6, we need the to get the pointers into MF6 using its BMI interface."
   ]
  },
  {
   "cell_type": "code",
   "execution_count": null,
   "id": "8518c7f8-17eb-4856-a662-fbe2a7109c02",
   "metadata": {},
   "outputs": [],
   "source": [
    "sim_name = \"sagehenmodel\"\n",
    "mf6_var_model_dict = {\"SINF\": \"UZF-1\", \"PET\": \"UZF-1\", \"RUNOFF\": \"SFR-1\"}\n",
    "mf6_vars = {}\n",
    "for vv, mm in mf6_var_model_dict.items():\n",
    "    mf6_vars[vv] = mf6.get_value_ptr(\n",
    "        mf6.get_var_address(vv, sim_name.upper(), mm)\n",
    "    )\n",
    "\n",
    "for vv, dd in mf6_vars.items():\n",
    "    print(f\"shape of {vv}: {dd.shape}\")"
   ]
  },
  {
   "cell_type": "markdown",
   "id": "5276591a-df87-4d23-865d-7675a3bc92f4",
   "metadata": {},
   "source": [
    "The UZF model has 2 vertical layers, so the number of points in UZF is twice what was shown in the spatial weights mappings above."
   ]
  },
  {
   "cell_type": "markdown",
   "id": "468c8848-56f9-4996-affc-78c85265e156",
   "metadata": {},
   "source": [
    "#### Run the models\n",
    "\n",
    "Now we run the model. We use pywatershed to control the simulation."
   ]
  },
  {
   "cell_type": "code",
   "execution_count": null,
   "id": "bad87670-58e0-45f9-8468-31a04b3bc659",
   "metadata": {},
   "outputs": [],
   "source": [
    "prms_model.initialize_netcdf()\n",
    "n_time_steps = control.n_times  # redundant above?\n",
    "for istep in range(n_time_steps):\n",
    "    prms_model.advance()\n",
    "\n",
    "    if control.current_dowy == 1:\n",
    "        if istep > 0:\n",
    "            print(\"\\n\")\n",
    "        print(f\"Water year: {control.current_year + 1}\")\n",
    "\n",
    "    msg = f\"Day of water year: {str(control.current_dowy + 1).zfill(3)}\"\n",
    "    print(msg, end=\"\\r\")\n",
    "\n",
    "    # run pywatershed\n",
    "    prms_model.calculate()\n",
    "    prms_model.output()\n",
    "\n",
    "    # calculate variables for output and coupling\n",
    "    hru_ppt = prms_model.processes[\"PRMSAtmosphere\"].hru_ppt.current\n",
    "\n",
    "    potet = prms_model.processes[\"PRMSSoilzoneCascadesNoDprst\"].potet\n",
    "    actet = prms_model.processes[\"PRMSSoilzoneCascadesNoDprst\"].hru_actet\n",
    "    unused_pet = potet - actet\n",
    "\n",
    "    # TODO: why is soil_infil not used?\n",
    "    soil_infil = (\n",
    "        prms_model.processes[\"PRMSSoilzoneCascadesNoDprst\"].ssres_in\n",
    "        + prms_model.processes[\"PRMSSoilzoneCascadesNoDprst\"].pref_flow_infil\n",
    "    )\n",
    "    recharge = (\n",
    "        prms_model.processes[\"PRMSSoilzoneCascadesNoDprst\"].ssr_to_gw\n",
    "        + prms_model.processes[\"PRMSSoilzoneCascadesNoDprst\"].soil_to_gw\n",
    "    )\n",
    "\n",
    "    sroff = prms_model.processes[\"PRMSRunoffCascadesNoDprst\"].sroff\n",
    "    interflow = prms_model.processes[\"PRMSSoilzoneCascadesNoDprst\"].ssres_flow\n",
    "    prms_ro = (sroff + interflow) * in2m * hru_area_m2\n",
    "\n",
    "    # save PRMS results (converted to m3/d)\n",
    "    prms_var_dict[\"time_out\"][istep] = control.current_time\n",
    "    prms_var_dict[\"hru_ppt_out\"][istep, :] = hru_ppt * in2m * hru_area_m2\n",
    "    prms_var_dict[\"potet_out\"][istep, :] = potet * in2m * hru_area_m2\n",
    "    prms_var_dict[\"actet_out\"][istep, :] = actet * in2m * hru_area_m2\n",
    "    prms_var_dict[\"soilinfil_out\"][istep, :] = soil_infil * in2m * hru_area_m2\n",
    "    prms_var_dict[\"runoff_out\"][istep, :] = sroff * in2m * hru_area_m2\n",
    "    prms_var_dict[\"interflow_out\"][istep, :] = interflow * in2m * hru_area_m2\n",
    "\n",
    "    # Set MF6 pointers\n",
    "    mf6_vars[\"RUNOFF\"][:] = hru2mf6(sfrw, prms_ro)  # sroff + ssres_flow\n",
    "    mf6_vars[\"SINF\"][:nuzf_infilt] = (\n",
    "        hru2mf6(uzfw, recharge) * in2m\n",
    "    )  # ssr_to_gw + soil_to_gw\n",
    "    mf6_vars[\"PET\"][:nuzf_infilt] = (\n",
    "        hru2mf6(uzfw, unused_pet) * in2m\n",
    "    )  # potet - actet\n",
    "\n",
    "    # run MODFLOW 6\n",
    "    mf6.update()\n",
    "\n",
    "try:\n",
    "    mf6.finalize()\n",
    "    prms_model.finalize()\n",
    "    success = True\n",
    "except:\n",
    "    raise RuntimeError"
   ]
  },
  {
   "cell_type": "code",
   "execution_count": null,
   "id": "d4280eb0-fc4f-475c-a315-6808a4e622a0",
   "metadata": {},
   "outputs": [],
   "source": [
    "# fpth = \"output/pywatershed_output.npz\"\n",
    "# np.savez_compressed(\n",
    "#     fpth,\n",
    "#     time=prms_var_dict[\"time_out\"],\n",
    "#     ppt=prms_var_dict[\"ppt_out\"],\n",
    "#     potet=prms_var_dict[\"potet_out\"],\n",
    "#     actet=prms_var_dict[\"actet_out\"],\n",
    "#     infil=prms_var_dict[\"soilinfil_out\"],\n",
    "#     runoff=prms_var_dict[\"runoff_out\"],\n",
    "#     interflow=prms_var_dict[\"interflow_out\"],\n",
    "# )\n",
    "\n",
    "\n",
    "pws_output_dir = nb_output_dir / \"pws_output\"\n",
    "pws_output_dir.mkdir(exist_ok=True)\n",
    "for prms_var in prms_vars:\n",
    "    if prms_var == \"time_out\":\n",
    "        continue\n",
    "    var = prms_var[0:-4]\n",
    "    print(var)\n",
    "    ds = xr.Dataset(\n",
    "        data_vars={var: ([\"time\", \"nhru\"], prms_var_dict[prms_var])},\n",
    "        coords={\"time\": prms_var_dict[\"time_out\"].astype(\"datetime64[ns]\")},\n",
    "    )\n",
    "    ds.to_netcdf(pws_output_dir / f\"{var}.nc\")\n",
    "    del ds"
   ]
  },
  {
   "cell_type": "markdown",
   "id": "ae85d2fb-7595-4066-af49-f8ec39f24520",
   "metadata": {},
   "source": [
    "#### Finalize models\n",
    "Clean up. "
   ]
  },
  {
   "cell_type": "markdown",
   "id": "c9584e62-d72a-48f0-9286-e69b66d0257b",
   "metadata": {},
   "source": [
    "#### Save hydrology output\n",
    "Save the variables to file that were collected into memory from pywatershed."
   ]
  },
  {
   "cell_type": "markdown",
   "id": "c5dddfe4-570c-40bd-ad7b-b5dc6c0ab983",
   "metadata": {},
   "source": [
    "### Plot\n",
    "\n",
    "We spare the user the details of the plotting. "
   ]
  },
  {
   "cell_type": "code",
   "execution_count": null,
   "id": "da285185-4535-4e04-a144-2f3bc362130e",
   "metadata": {},
   "outputs": [],
   "source": [
    "fig_out_dir = nb_output_dir / \"figures\"\n",
    "fig_out_dir.mkdir(exist_ok=True)\n",
    "\n",
    "run_dir = nb_output_dir / \"run_dir\"\n",
    "os.chdir(run_dir)  # make sure\n",
    "\n",
    "import sagehen_postprocess_graphs as graphs"
   ]
  },
  {
   "cell_type": "code",
   "execution_count": null,
   "id": "10adb506-c0f4-440d-9996-b2dd12b65ffc",
   "metadata": {},
   "outputs": [],
   "source": [
    "graphs.streamflow_fig()"
   ]
  },
  {
   "cell_type": "code",
   "execution_count": null,
   "id": "aefe7226-2a20-402a-beed-28fcb452e111",
   "metadata": {},
   "outputs": [],
   "source": [
    "graphs.et_recharge_ppt_fig()"
   ]
  },
  {
   "cell_type": "code",
   "execution_count": null,
   "id": "c67ee984-324e-4e48-ae8a-b83c4a58094e",
   "metadata": {},
   "outputs": [],
   "source": [
    "graphs.gwf_uzf_storage_changes_fig()"
   ]
  },
  {
   "cell_type": "code",
   "execution_count": null,
   "id": "bdcb23dd-d9e5-4a82-9a0f-80d10760e4a2",
   "metadata": {},
   "outputs": [],
   "source": [
    "graphs.cumulative_streamflow_fig()"
   ]
  },
  {
   "cell_type": "code",
   "execution_count": null,
   "id": "e6222f67-a8c6-4467-8f3b-a473c6de490d",
   "metadata": {},
   "outputs": [],
   "source": [
    "graphs.composite_fig()"
   ]
  },
  {
   "cell_type": "markdown",
   "id": "a18a1dbf-d942-4d68-9308-c5eef2fbde55",
   "metadata": {},
   "source": [
    "## Conclusions\n",
    "\n",
    "This one-way coupling of pywatershed and MODFLOW 6 demonstrates how software interoperatbility standards can bridge silos with out creating new \"code silos\". \n",
    "\n",
    "This demonstration also highlights how modular models provide clear process conceptualizations and easy access to variables required for cross-discipline couplings. \n",
    "\n",
    "In the near future, pywatershed will expand to support the reproducing GSFLOW by implementing hydrologic \"cascading flows\" and implementing a 2-way couling with MF6. \n"
   ]
  },
  {
   "cell_type": "markdown",
   "id": "57f787ba-e317-4ef7-b9f8-94432ec5a161",
   "metadata": {},
   "source": [
    "## References\n",
    "* Hutton, E. W., Piper, M. D., & Tucker, G. E. (2020). The Basic Model Interface 2.0: A standard interface for coupling numerical models in the geosciences. Journal of Open Source Software, 5(51), 2317.\n",
    "* Hughes, J. D., Russcher, M. J., Langevin, C. D., Morway, E. D., & McDonald, R. R. (2022). The MODFLOW Application Programming Interface for simulation control and software interoperability. Environmental Modelling & Software, 148, 105257.\n",
    "* Langevin, C. D., Hughes, J. D., Banta, E. R., Niswonger, R. G., Panday, S., & Provost, A. M. (2017). Documentation for the MODFLOW 6 groundwater flow model (No. 6-A55). US Geological Survey.\n",
    "* Markstrom, S. L., Niswonger, R. G., Regan, R. S., Prudic, D. E., & Barlow, P. M. (2008). GSFLOW-Coupled Ground-water and Surface-water FLOW model based on the integration of the Precipitation-Runoff Modeling System (PRMS) and the Modular Ground-Water Flow Model (MODFLOW-2005). US Geological Survey techniques and methods, 6, 240.\n",
    "* Regan, R. S., Markstrom, S. L., Hay, L. E., Viger, R. J., Norton, P. A., Driscoll, J. M., & LaFontaine, J. H. (2018). Description of the national hydrologic model for use with the precipitation-runoff modeling system (prms) (No. 6-B9). US Geological Survey.\n",
    "* Regan, R.S., Markstrom, S.L., LaFontaine, J.H., 2022, PRMS version 5.2.1: Precipitation-Runoff Modeling System (PRMS): U.S. Geological Survey Software Release, 02/10/2022."
   ]
  },
  {
   "cell_type": "code",
   "execution_count": null,
   "id": "408ba348-fd4d-4dda-9ac9-ca3088f3a1b8",
   "metadata": {},
   "outputs": [],
   "source": []
  },
  {
   "cell_type": "code",
   "execution_count": null,
   "id": "23d11e50-da43-48f6-b520-34204ca93f98",
   "metadata": {},
   "outputs": [],
   "source": []
  },
  {
   "cell_type": "code",
   "execution_count": null,
   "id": "aa57f414-a10e-465b-bac3-984fece0d1af",
   "metadata": {},
   "outputs": [],
   "source": []
  }
 ],
 "metadata": {
  "language_info": {
   "codemirror_mode": {
    "name": "ipython"
   },
   "file_extension": ".py",
   "mimetype": "text/x-python",
   "name": "python",
   "nbconvert_exporter": "python"
  }
 },
 "nbformat": 4,
 "nbformat_minor": 5
}
